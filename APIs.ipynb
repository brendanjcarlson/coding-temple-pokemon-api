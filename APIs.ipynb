{
 "cells": [
  {
   "cell_type": "markdown",
   "metadata": {},
   "source": [
    "# APIs\n"
   ]
  },
  {
   "cell_type": "markdown",
   "metadata": {},
   "source": [
    "## Tasks Today:\n",
    "1) <b>Requests and the pokemon API </b> <br>\n",
    " "
   ]
  },
  {
   "cell_type": "markdown",
   "metadata": {},
   "source": [
    "# working with APis"
   ]
  },
  {
   "cell_type": "markdown",
   "metadata": {},
   "source": [
    "<p> What exactly is an API? <br> <br>\n",
    "API is the acronym for Application Programming Interface, which is a software intermediary that allows two applications to talk to each other. Each time you use an app like Facebook, send an instant message, or check the weather on your phone, you're using an API. </p>"
   ]
  },
  {
   "cell_type": "markdown",
   "metadata": {},
   "source": [
    "### The Poke API  allows you to retreive a pokemon's information from PokeAPI https://pokeapi.co/\n",
    "\n"
   ]
  },
  {
   "cell_type": "code",
   "execution_count": 1,
   "metadata": {},
   "outputs": [
    {
     "name": "stdout",
     "output_type": "stream",
     "text": [
      "Success.\n"
     ]
    }
   ],
   "source": [
    "# making an API call\n",
    "import requests\n",
    "\n",
    "res = requests.get('https://pokeapi.co/api/v2/pokemon/pikachu')\n",
    "if res.status_code == 200:\n",
    "    print('Success.')\n",
    "    data = res.json()\n",
    "else:\n",
    "    print(f\"Error {res.status_code}\")\n",
    "\n",
    "\n"
   ]
  },
  {
   "cell_type": "markdown",
   "metadata": {},
   "source": [
    "### Display a Pokemon's name, weight, abilities, and types"
   ]
  },
  {
   "cell_type": "code",
   "execution_count": 2,
   "metadata": {},
   "outputs": [
    {
     "name": "stdout",
     "output_type": "stream",
     "text": [
      "pikachu\n"
     ]
    }
   ],
   "source": [
    "# get the name\n",
    "name = data['name']\n",
    "print(name)"
   ]
  },
  {
   "cell_type": "code",
   "execution_count": 3,
   "metadata": {},
   "outputs": [
    {
     "name": "stdout",
     "output_type": "stream",
     "text": [
      "[{'slot': 1, 'type': {'name': 'electric', 'url': 'https://pokeapi.co/api/v2/type/13/'}}]\n"
     ]
    }
   ],
   "source": [
    "# get types\n",
    "types = data['types']\n",
    "print(types)"
   ]
  },
  {
   "cell_type": "code",
   "execution_count": 4,
   "metadata": {},
   "outputs": [
    {
     "name": "stdout",
     "output_type": "stream",
     "text": [
      "60\n"
     ]
    }
   ],
   "source": [
    "# get weight\n",
    "weight = data['weight']\n",
    "print(weight)"
   ]
  },
  {
   "cell_type": "code",
   "execution_count": 5,
   "metadata": {},
   "outputs": [
    {
     "name": "stdout",
     "output_type": "stream",
     "text": [
      "['static', 'lightning-rod']\n"
     ]
    }
   ],
   "source": [
    "# get abilities\n",
    "abilities = [ability['ability']['name'] for ability in data['abilities']]\n",
    "print(abilities)"
   ]
  },
  {
   "cell_type": "code",
   "execution_count": 6,
   "metadata": {},
   "outputs": [
    {
     "name": "stdout",
     "output_type": "stream",
     "text": [
      "name: pikachu\n",
      "weight: 60\n",
      "types: [{'slot': 1, 'type': {'name': 'electric', 'url': 'https://pokeapi.co/api/v2/type/13/'}}]\n",
      "abilities: ['static', 'lightning-rod']\n"
     ]
    }
   ],
   "source": [
    "# Create a structure for a single pokemon\n",
    "pokemon = {\n",
    "    'name': data['name'],\n",
    "    'weight': data['weight'],\n",
    "    'types': data['types'],\n",
    "    'abilities': [ability['ability']['name'] for ability in data['abilities']],\n",
    "}\n",
    "for k,v in pokemon.items():\n",
    "    print(f\"{k}: {v}\")"
   ]
  },
  {
   "cell_type": "markdown",
   "metadata": {},
   "source": [
    "#### Create a function to Pull in your own Pokemon's data "
   ]
  },
  {
   "cell_type": "code",
   "execution_count": 7,
   "metadata": {},
   "outputs": [
    {
     "name": "stdout",
     "output_type": "stream",
     "text": [
      "name: squirtle \n",
      "height: 5 \n",
      "weight: 90 \n",
      "types: ['water'] \n",
      "abilities: ['torrent', 'rain-dish'] \n",
      "front_def_sprite: https://raw.githubusercontent.com/PokeAPI/sprites/master/sprites/pokemon/7.png \n",
      "\n"
     ]
    }
   ],
   "source": [
    "\n",
    "def poke_api_call(pokemon=None):\n",
    "    if not pokemon:\n",
    "        pokemon = input(\"Choose your pokemon!\\n\")\n",
    "\n",
    "    res = requests.get(f\"https://pokeapi.co/api/v2/pokemon/{pokemon}\")\n",
    "    if res.status_code == 200:\n",
    "        data = res.json()\n",
    "    else:\n",
    "        return f\"Error: {res.status_code}\"\n",
    "\n",
    "    pokemon = {\n",
    "    'name': data['name'],\n",
    "    'height': data['height'],\n",
    "    'weight': data['weight'],\n",
    "    'types': [type['type']['name'] for type in data['types']],\n",
    "    'abilities': [ability['ability']['name'] for ability in data['abilities']],\n",
    "    'front_def_sprite': data['sprites']['front_default'],\n",
    "    }\n",
    "\n",
    "    output = f''\n",
    "    for k,v in pokemon.items():\n",
    "        if v == 'types':\n",
    "            output += f\"{k}: {', '.join(v)} \\n\"\n",
    "        else:\n",
    "            output += f\"{k}: {v} \\n\"\n",
    "    return output\n",
    "\n",
    "print(poke_api_call('squirtle'))"
   ]
  },
  {
   "cell_type": "markdown",
   "metadata": {},
   "source": [
    "Choose your pokemon"
   ]
  },
  {
   "cell_type": "code",
   "execution_count": 8,
   "metadata": {},
   "outputs": [],
   "source": [
    "from random import randint\n",
    "# Random number generated for each pokemon id\n",
    "random_team = [randint(1,898) for _ in range(6)]\n",
    "\n",
    "your_team = ['electabuzz', 'haunter','tyranitar','blaziken','marowak','dragonair']\n"
   ]
  },
  {
   "cell_type": "markdown",
   "metadata": {},
   "source": [
    "#### Use your function to create a dictionary of your Johto League 6  (favorite 6 pokemon)"
   ]
  },
  {
   "cell_type": "code",
   "execution_count": 9,
   "metadata": {},
   "outputs": [],
   "source": [
    "from ppretty import ppretty\n",
    "# Place all 6 of your pokemon on the object below, each pokemon should have at least as much info as Pikachu did.\n",
    "def poke_api_call(pokemon=None):\n",
    "    if not pokemon:\n",
    "        pokemon = input(\"Choose your pokemon!\\n\")\n",
    "\n",
    "    res = requests.get(f\"https://pokeapi.co/api/v2/pokemon/{pokemon}\")\n",
    "    if res.status_code == 200:\n",
    "        data = res.json()\n",
    "    else:\n",
    "        return f\"Error: {res.status_code}\"\n",
    "\n",
    "    pokemon_info = {\n",
    "    'name': data['name'],\n",
    "    'height': data['height'],\n",
    "    'weight': data['weight'],\n",
    "    'types': [type['type']['name'] for type in data['types']],\n",
    "    'abilities': [ability['ability']['name'] for ability in data['abilities']],\n",
    "    'sprite': data['sprites']['front_default'],\n",
    "    }\n",
    "    return pokemon_info\n",
    "    \n",
    "my_six_pokemon = {}\n",
    "for poke in your_team:\n",
    "    my_six_pokemon[poke] = poke_api_call(poke)\n",
    "for poke, attrs in my_six_pokemon.items():\n",
    "    # print(poke, attrs)\n",
    "    pass\n",
    "\n",
    "mapped_pokemon = list(map(poke_api_call, your_team))\n",
    "print(ppretty(mapped_pokemon))\n",
    "\n",
    "\n",
    "random_six_pokemon = {}\n",
    "for pokeid in random_team:\n",
    "    random_six_pokemon[pokeid] = poke_api_call(pokeid)\n",
    "for poke, attrs in random_six_pokemon.items():\n",
    "    # print(poke, attrs)\n",
    "    pass"
   ]
  },
  {
   "cell_type": "markdown",
   "metadata": {},
   "source": [
    "## Lets create a class called 'Pokemon' and create our pokemon as instances"
   ]
  },
  {
   "cell_type": "code",
   "execution_count": null,
   "metadata": {},
   "outputs": [
    {
     "name": "stdout",
     "output_type": "stream",
     "text": [
      "Scizor\n",
      "['swarm', 'technician', 'light-metal']\n"
     ]
    }
   ],
   "source": [
    "import random\n",
    "from IPython.display import Image\n",
    "class Pokemon():\n",
    "    def __init__(self, identifier):\n",
    "        self.identifier = identifier\n",
    "        self.poke_info = requests.get(f\"https://pokeapi.co/api/v2/pokemon/{self.identifier}\").json()\n",
    "\n",
    "\n",
    "    # just getting used to using decorators. I know that each time we get an attribute that is a list we have do a new list comp which is bad\n",
    "    @property\n",
    "    def name(self):\n",
    "        return self.poke_info['name'].title()\n",
    "\n",
    "    @property\n",
    "    def height(self):\n",
    "        return self.poke_info['height']\n",
    "\n",
    "    @property\n",
    "    def weight(self):\n",
    "        return self.poke_info['weight']\n",
    "\n",
    "    @property\n",
    "    def types(self):\n",
    "        return [attr['type']['name'] for attr in self.poke_info['types']]\n",
    "\n",
    "    @property\n",
    "    def abilities(self):\n",
    "        return [ability['ability']['name'] for ability in self.poke_info['abilities']]\n",
    "\n",
    "    @property\n",
    "    def sprite(self):\n",
    "        return self.poke_info['sprites']['front_default']\n",
    "\n",
    "    def show_sprite(self):\n",
    "        display(Image(url=self.sprite, width = 300))\n",
    "\n",
    "random = Pokemon(random.randint(1,898))\n",
    "print(random.name)\n",
    "print(random.abilities)\n",
    "\n"
   ]
  },
  {
   "cell_type": "code",
   "execution_count": null,
   "metadata": {},
   "outputs": [
    {
     "data": {
      "text/html": [
       "<img src=\"https://raw.githubusercontent.com/PokeAPI/sprites/master/sprites/pokemon/25.png\" width=\"300\"/>"
      ],
      "text/plain": [
       "<IPython.core.display.Image object>"
      ]
     },
     "metadata": {},
     "output_type": "display_data"
    },
    {
     "name": "stdout",
     "output_type": "stream",
     "text": [
      "Pikachu is electric type with the abilities: static, lightning-rod and is 4ft tall and weighs 60lbs.\n"
     ]
    }
   ],
   "source": [
    "class PokemonExample():\n",
    "    def __init__(self, name):\n",
    "        self.abilities = []\n",
    "        self.name = name\n",
    "        self.types = []\n",
    "        self.weight = None\n",
    "        self.height = None\n",
    "        self.sprite = None\n",
    "        self.poke_api_call()\n",
    "\n",
    "    def __str__(self):\n",
    "        return f\"{self.name.title()} is {' & '.join(self.types) if len(self.types) > 1 else self.types[0]} type{'s' if len(self.types) > 1 else ''} with the {'abilities' if len(self.abilities) > 1 else 'ability'}: {', '.join(self.abilities) if len(self.abilities) > 1 else self.abilities[0]} and is {self.height}ft tall and weighs {self.weight}lbs.\"\n",
    "\n",
    "    def poke_api_call(self):\n",
    "        res = requests.get(f\"https://pokeapi.co/api/v2/pokemon/{self.name}\")\n",
    "        if res.status_code == 200:\n",
    "            data = res.json()\n",
    "        else:\n",
    "            return f\"Error: {res.status_code}\"\n",
    "\n",
    "        self.height= data['height']\n",
    "        self.weight = data['weight']\n",
    "        self.types = [x['type']['name'] for x in data['types']]\n",
    "        self.abilities = [ability['ability']['name'] for ability in data['abilities']]\n",
    "        self.sprite = data['sprites']['front_default']\n",
    "\n",
    "    def show_sprite(self):\n",
    "        display(Image(url=self.sprite, width = 300))\n",
    "\n",
    "pikachu = PokemonExample('pikachu')\n",
    "pikachu.show_sprite()\n",
    "print(pikachu)\n"
   ]
  },
  {
   "cell_type": "markdown",
   "metadata": {},
   "source": [
    "### Let's Catch some Pokemon"
   ]
  },
  {
   "cell_type": "code",
   "execution_count": null,
   "metadata": {},
   "outputs": [
    {
     "name": "stdout",
     "output_type": "stream",
     "text": [
      "Squirtle is water type with the abilities: torrent, rain-dish and is 5ft tall and weighs 90lbs.\n"
     ]
    }
   ],
   "source": [
    "class Pokedex():\n",
    "    def __init__(self, player_name):\n",
    "        self.player_name = player_name\n",
    "        self.pokemon = {}\n",
    "\n",
    "    def add_pokemon(self, name):\n",
    "        self.pokemon[name] = PokemonExample(name)\n",
    "        print(f\"{name.title()} was added to {self.player_name}'s Pokedex!\")\n",
    "\n",
    "    def search_pokemon(self, name):\n",
    "        print(PokemonExample(name.lower()))\n",
    "        \n",
    "        \n",
    "\n",
    "my_pokedex = Pokedex('Brendan')\n",
    "my_pokedex.search_pokemon('squirtle')"
   ]
  },
  {
   "cell_type": "markdown",
   "metadata": {},
   "source": [
    "## Exercise 1:"
   ]
  },
  {
   "cell_type": "markdown",
   "metadata": {},
   "source": [
    "### Create a Method prints an image of your pokemon\n",
    "\n",
    "<p>HINT: You may need another attribute as well to store your image url within. </p>"
   ]
  },
  {
   "cell_type": "code",
   "execution_count": null,
   "metadata": {},
   "outputs": [],
   "source": [
    "from IPython.display import Image\n",
    "import random\n",
    "from ppretty import ppretty\n",
    "\n",
    "class Pokemon():\n",
    "    def __init__(self, _api_call_tag):\n",
    "        self._api_call_tag = _api_call_tag.lower()\n",
    "        self.id = None ###\n",
    "        self.name = None ###\n",
    "        self.height = None ###\n",
    "        self.weight = None ###\n",
    "        self._types_list = [] ###\n",
    "        self._abilities_list = [] ###\n",
    "        self._sprite_url = None ###\n",
    "        self._species_url = None ###\n",
    "        self._species_data = {} ###\n",
    "        self._evolution_url = None ###\n",
    "        self._evolution_data = {} ###\n",
    "        self._chain = None ###\n",
    "        self._level_one =  None \n",
    "        self._level_two = None\n",
    "        self._level_three = None\n",
    "        self._data = {} ###\n",
    "        self._poke_api_call() ###\n",
    "\n",
    "    def _poke_api_call(self):\n",
    "        res = requests.get(f\"https://pokeapi.co/api/v2/pokemon/{self._api_call_tag}/\")\n",
    "        if res.status_code == 200:\n",
    "            data = res.json()\n",
    "            self._data = data\n",
    "        else:\n",
    "            print(f\"Error (https://pokeapi.co/api/v2/pokemon/{self._api_call_tag}/): {res.status_code}\")\n",
    "            return {}\n",
    "\n",
    "        self.id = data['id']\n",
    "        self.name = data['name']\n",
    "        self.height = data['height']\n",
    "        self.weight = data['weight']\n",
    "        self._sprite_url = data['sprites']['front_default']\n",
    "        self._species_url = data['species']['url']\n",
    "        self._abilities_list = [ab['ability']['name'].title() for ab in data['abilities']]\n",
    "        self._types_list = [ty['type']['name'].title() for ty in data['types']]\n",
    "\n",
    "        self._species_url = data['species']['url']\n",
    "        if not self._chain:\n",
    "            self._poke_species_call()\n",
    "\n",
    "    # EXERCISE 2\n",
    "    def _poke_species_call(self):\n",
    "        res = requests.get(self._species_url)\n",
    "        if res.status_code == 200:\n",
    "            data = res.json()\n",
    "            self._species_data = data\n",
    "        else:\n",
    "            print(f\"Error ({self._species_url}): {res.status_code}\")\n",
    "            return {}\n",
    "\n",
    "        self._evolution_url = data['evolution_chain']['url']\n",
    "        if not self._chain:\n",
    "            self._poke_evolution_call()\n",
    "\n",
    "    # EXERCISE 2\n",
    "    def _poke_evolution_call(self):\n",
    "        res = requests.get(self._evolution_url)\n",
    "        if res.status_code == 200:\n",
    "            data = res.json()\n",
    "            self._evolution_data = data\n",
    "        else:\n",
    "            print(f\"Error ({self._evolution_url}): {res.status_code}\")\n",
    "            return {}\n",
    "\n",
    "        self._chain = data['chain']\n",
    "        self._level_one = data['chain']['species']['name'].lower()\n",
    "        self._level_two = data['chain']['evolves_to'][0]['species']['name'].lower()\n",
    "        self._level_three = data['chain']['evolves_to'][0]['evolves_to'][0]['species']['name'].lower()\n",
    "\n",
    "\n",
    "    @property\n",
    "    def abilities(self):\n",
    "        if len(self._abilities_list) == 1:\n",
    "            return self._abilities_list[0]\n",
    "        elif len(self._abilities_list) == 2:\n",
    "            return f\"{self._abilities_list[0]} & {self._abilities_list[1]}\"\n",
    "        else:\n",
    "            return \", \".join(self._abilities_list)\n",
    "\n",
    "    @property\n",
    "    def types(self):\n",
    "        if len(self._types_list) == 1:\n",
    "            return self._types_list[0]\n",
    "        else:\n",
    "            return f\"{self._types_list[0]} & {self._types_list[1]}\"\n",
    "\n",
    "    # EXERCISE 1\n",
    "    def show_sprite(self):\n",
    "        # for some reason this only works in VSCode when I pass the url as a kwarg \n",
    "        display(Image(url=self._sprite_url, width = 200))\n",
    "\n",
    "    def show_sprite_nokwarg(self):\n",
    "        display(Image(self._sprite_url, width = 200))\n",
    "\n",
    "    # EXERCISE 2\n",
    "    def evolve(self):\n",
    "        if self._api_call_tag == self._level_three:\n",
    "            self.show_sprite()\n",
    "            return f\"{self._level_three.title()} is already at it's maximum evolution!\"\n",
    "\n",
    "        if self._api_call_tag == self._level_two:\n",
    "            self._api_call_tag = self._level_three\n",
    "            self._poke_api_call()\n",
    "            self.show_sprite()\n",
    "            return f\"{self._level_two.title()} evolved into {self._level_three.title()}!\"\n",
    "\n",
    "        if self._api_call_tag == self._level_one:\n",
    "            self._api_call_tag = self._level_two.lower()\n",
    "            self._poke_api_call()\n",
    "            self.show_sprite()\n",
    "            return f\"{self._level_one.title()} evolved into {self._level_two.title()}!\"\n"
   ]
  },
  {
   "cell_type": "code",
   "execution_count": null,
   "metadata": {},
   "outputs": [
    {
     "data": {
      "text/html": [
       "<img src=\"https://raw.githubusercontent.com/PokeAPI/sprites/master/sprites/pokemon/8.png\" width=\"200\"/>"
      ],
      "text/plain": [
       "<IPython.core.display.Image object>"
      ]
     },
     "metadata": {},
     "output_type": "display_data"
    },
    {
     "data": {
      "text/html": [
       "<img src=\"https://raw.githubusercontent.com/PokeAPI/sprites/master/sprites/pokemon/257.png\" width=\"200\"/>"
      ],
      "text/plain": [
       "<IPython.core.display.Image object>"
      ]
     },
     "metadata": {},
     "output_type": "display_data"
    }
   ],
   "source": [
    "wartortle = Pokemon(\"wartortle\")\n",
    "blaziken = Pokemon(\"blaziken\")\n",
    "\n",
    "wartortle.show_sprite()\n",
    "blaziken.show_sprite()\n"
   ]
  },
  {
   "cell_type": "markdown",
   "metadata": {},
   "source": [
    "## Exercise 2:"
   ]
  },
  {
   "cell_type": "markdown",
   "metadata": {},
   "source": [
    "### Create a Method that evolves your Pokemon\n",
    "If your pokemon can't evolve any further print a message that says \"\\<name of pokemon> can't evolve.\""
   ]
  },
  {
   "cell_type": "code",
   "execution_count": null,
   "metadata": {},
   "outputs": [],
   "source": [
    "# all of my exercise 2 work is in exercise 1, it's the two additional api calls and the evolve method (check comments)"
   ]
  },
  {
   "cell_type": "markdown",
   "metadata": {},
   "source": [
    "Now let's evolve a few"
   ]
  },
  {
   "cell_type": "code",
   "execution_count": null,
   "metadata": {
    "scrolled": true
   },
   "outputs": [
    {
     "data": {
      "text/html": [
       "<img src=\"https://raw.githubusercontent.com/PokeAPI/sprites/master/sprites/pokemon/8.png\" width=\"200\"/>"
      ],
      "text/plain": [
       "<IPython.core.display.Image object>"
      ]
     },
     "metadata": {},
     "output_type": "display_data"
    },
    {
     "name": "stdout",
     "output_type": "stream",
     "text": [
      "Squirtle evolved into Wartortle!\n"
     ]
    },
    {
     "data": {
      "text/html": [
       "<img src=\"https://raw.githubusercontent.com/PokeAPI/sprites/master/sprites/pokemon/9.png\" width=\"200\"/>"
      ],
      "text/plain": [
       "<IPython.core.display.Image object>"
      ]
     },
     "metadata": {},
     "output_type": "display_data"
    },
    {
     "name": "stdout",
     "output_type": "stream",
     "text": [
      "Wartortle evolved into Blastoise!\n"
     ]
    }
   ],
   "source": [
    "# works from base pokemon without requiring any additional user input (for MOST pokemon... not one's like Eevee with multiple evolutions)\n",
    "pokemon1 = Pokemon('charmander')\n",
    "print(pokemon1.evolve())\n",
    "print(pokemon1.evolve())"
   ]
  },
  {
   "cell_type": "code",
   "execution_count": null,
   "metadata": {},
   "outputs": [
    {
     "data": {
      "text/html": [
       "<img src=\"https://raw.githubusercontent.com/PokeAPI/sprites/master/sprites/pokemon/6.png\" width=\"200\"/>"
      ],
      "text/plain": [
       "<IPython.core.display.Image object>"
      ]
     },
     "metadata": {},
     "output_type": "display_data"
    },
    {
     "name": "stdout",
     "output_type": "stream",
     "text": [
      "Charmeleon evolved into Charizard!\n"
     ]
    },
    {
     "data": {
      "text/html": [
       "<img src=\"https://raw.githubusercontent.com/PokeAPI/sprites/master/sprites/pokemon/6.png\" width=\"200\"/>"
      ],
      "text/plain": [
       "<IPython.core.display.Image object>"
      ]
     },
     "metadata": {},
     "output_type": "display_data"
    },
    {
     "name": "stdout",
     "output_type": "stream",
     "text": [
      "Charizard is already at it's maximum evolution!\n"
     ]
    },
    {
     "data": {
      "text/html": [
       "<img src=\"https://raw.githubusercontent.com/PokeAPI/sprites/master/sprites/pokemon/6.png\" width=\"200\"/>"
      ],
      "text/plain": [
       "<IPython.core.display.Image object>"
      ]
     },
     "metadata": {},
     "output_type": "display_data"
    },
    {
     "name": "stdout",
     "output_type": "stream",
     "text": [
      "Charizard is already at it's maximum evolution!\n"
     ]
    }
   ],
   "source": [
    "# also works from a pokemons first evolution and catches if pokemon is already at its max evolution\n",
    "pokemon2 = Pokemon(\"ivysaur\")\n",
    "print(pokemon2.evolve())\n",
    "print(pokemon2.evolve())\n",
    "print(pokemon2.evolve())"
   ]
  },
  {
   "cell_type": "code",
   "execution_count": null,
   "metadata": {},
   "outputs": [],
   "source": []
  },
  {
   "cell_type": "markdown",
   "metadata": {},
   "source": [
    "#  Final Exercise: (OPTIONAL) <br> <br>Create a Move_Tutor Class that will allow the Pokemon Class to inherit a move list.\n",
    "<br>\n",
    "<p>for an added bonus you can make sure that if a pokemon has 4 moves the user can choose one of them to replace with a new move. </p>"
   ]
  },
  {
   "cell_type": "code",
   "execution_count": null,
   "metadata": {},
   "outputs": [],
   "source": [
    "class Move_Tutor:\n",
    "    def __init__(self):\n",
    "        self.move_list = []"
   ]
  },
  {
   "cell_type": "code",
   "execution_count": null,
   "metadata": {},
   "outputs": [],
   "source": []
  },
  {
   "cell_type": "code",
   "execution_count": null,
   "metadata": {},
   "outputs": [
    {
     "ename": "AttributeError",
     "evalue": "'PokemonExample' object has no attribute 'teach_move'",
     "output_type": "error",
     "traceback": [
      "\u001b[0;31m---------------------------------------------------------------------------\u001b[0m",
      "\u001b[0;31mAttributeError\u001b[0m                            Traceback (most recent call last)",
      "Cell \u001b[0;32mIn [332], line 1\u001b[0m\n\u001b[0;32m----> 1\u001b[0m pikachu\u001b[39m.\u001b[39;49mteach_move()\n",
      "\u001b[0;31mAttributeError\u001b[0m: 'PokemonExample' object has no attribute 'teach_move'"
     ]
    }
   ],
   "source": [
    "pikachu.teach_move()"
   ]
  },
  {
   "cell_type": "code",
   "execution_count": null,
   "metadata": {},
   "outputs": [],
   "source": [
    "pikachu.show_moves()"
   ]
  }
 ],
 "metadata": {
  "kernelspec": {
   "display_name": "Python 3.10.8 64-bit",
   "language": "python",
   "name": "python3"
  },
  "language_info": {
   "codemirror_mode": {
    "name": "ipython",
    "version": 3
   },
   "file_extension": ".py",
   "mimetype": "text/x-python",
   "name": "python",
   "nbconvert_exporter": "python",
   "pygments_lexer": "ipython3",
   "version": "3.10.8"
  },
  "vscode": {
   "interpreter": {
    "hash": "aee8b7b246df8f9039afb4144a1f6fd8d2ca17a180786b69acc140d282b71a49"
   }
  }
 },
 "nbformat": 4,
 "nbformat_minor": 4
}
